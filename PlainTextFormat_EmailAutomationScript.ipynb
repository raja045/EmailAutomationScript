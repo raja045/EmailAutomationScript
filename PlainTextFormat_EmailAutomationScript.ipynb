{
  "nbformat": 4,
  "nbformat_minor": 0,
  "metadata": {
    "colab": {
      "provenance": []
    },
    "kernelspec": {
      "name": "python3",
      "display_name": "Python 3"
    },
    "language_info": {
      "name": "python"
    }
  },
  "cells": [
    {
      "cell_type": "code",
      "execution_count": null,
      "metadata": {
        "id": "KtAiGT0iinUX"
      },
      "outputs": [],
      "source": [
        "!pip install pandas"
      ]
    },
    {
      "cell_type": "code",
      "source": [
        "import smtplib\n",
        "import pandas as pd\n",
        "from email.mime.multipart import MIMEMultipart\n",
        "from email.mime.text import MIMEText\n",
        "\n",
        "# Load email list from a CSV or Excel file\n",
        "file_path = 'path_to_the_CSV_File_in_the_Colab_NoteBook'  # replace with your file path\n",
        "df = pd.read_csv(file_path)  # Use pd.read_excel('emails.xlsx') for Excel files\n",
        "\n",
        "# Email setup\n",
        "sender_email = \"sender's email address\"\n",
        "sender_password = \"This is App Password, Not the actual password of your google account.\"  # For Gmail, consider an App Password if 2FA is enabled\n",
        "\n",
        "# SMTP server configuration (for Gmail)\n",
        "smtp_server = \"smtp.gmail.com\"\n",
        "smtp_port = 587\n",
        "\n",
        "# Connect to the SMTP server\n",
        "server = smtplib.SMTP(smtp_server, smtp_port)\n",
        "server.starttls()  # Secure the connection\n",
        "server.login(sender_email, sender_password)\n",
        "\n",
        "# Loop through each recipient in the file and send the email\n",
        "for index, row in df.iterrows():\n",
        "    recipient_email = row['Email']\n",
        "    recipient_name = row['Name']  # Optional, for personalized messages\n",
        "\n",
        "    # Create the email content\n",
        "    message = MIMEMultipart()\n",
        "    message['From'] = sender_email\n",
        "    message['To'] = recipient_email\n",
        "    message['Subject'] = \"Subject of the email\"\n",
        "\n",
        "    # Plain-text email body (personalize if needed)\n",
        "    body = f\"\"\"\n",
        "Dear {recipient_name},\n",
        "\n",
        "Change me to the plain-text email content.\n",
        "\n",
        "Best regards,\n",
        "Your Name\n",
        "    \"\"\"\n",
        "\n",
        "    # Attach the plain-text body to the email\n",
        "    message.attach(MIMEText(body, 'plain'))\n",
        "\n",
        "    # Send the email\n",
        "    try:\n",
        "        server.sendmail(sender_email, recipient_email, message.as_string())\n",
        "        print(f\"Email sent to {recipient_email}\")\n",
        "    except Exception as e:\n",
        "        print(f\"Failed to send email to {recipient_email}: {e}\")\n",
        "\n",
        "# Close the SMTP server connection\n",
        "server.quit()\n"
      ],
      "metadata": {
        "id": "TodHJzLAiuBV"
      },
      "execution_count": null,
      "outputs": []
    }
  ]
}